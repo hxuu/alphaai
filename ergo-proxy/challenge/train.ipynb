{
 "cells": [
  {
   "cell_type": "code",
   "execution_count": 1,
   "metadata": {
    "execution": {
     "iopub.execute_input": "2024-12-05T12:42:58.322820Z",
     "iopub.status.busy": "2024-12-05T12:42:58.322026Z",
     "iopub.status.idle": "2024-12-05T12:43:01.204324Z",
     "shell.execute_reply": "2024-12-05T12:43:01.203612Z",
     "shell.execute_reply.started": "2024-12-05T12:42:58.322781Z"
    },
    "trusted": true
   },
   "outputs": [],
   "source": [
    "import torch\n",
    "import torch.nn as nn\n",
    "import torch.optim as optim\n",
    "import numpy as np\n",
    "from PIL import Image\n",
    "import matplotlib.pyplot as plt"
   ]
  },
  {
   "cell_type": "code",
   "execution_count": null,
   "metadata": {
    "execution": {
     "iopub.execute_input": "2024-12-05T11:10:40.915195Z",
     "iopub.status.busy": "2024-12-05T11:10:40.914609Z",
     "iopub.status.idle": "2024-12-05T11:10:40.958957Z",
     "shell.execute_reply": "2024-12-05T11:10:40.958094Z",
     "shell.execute_reply.started": "2024-12-05T11:10:40.915150Z"
    },
    "trusted": true
   },
   "outputs": [],
   "source": [
    "from PIL import Image, ImageDraw, ImageFont\n",
    "\n",
    "def create_text_image(text= \"flag\", width=120, height=50, font_path=None):\n",
    "\n",
    "    image = Image.new('RGB', (width, height), color='white')\n",
    "    \n",
    "    draw = ImageDraw.Draw(image)\n",
    "    \n",
    "    if font_path:\n",
    "        font = ImageFont.truetype(font_path, 20)\n",
    "    else:\n",
    "        font = ImageFont.truetype(\"DejaVuSans-Bold.ttf\", 20)\n",
    "    \n",
    "    text_bbox = draw.textbbox((0, 0), text, font=font)\n",
    "    text_width = text_bbox[2] - text_bbox[0]\n",
    "    text_height = text_bbox[3] - text_bbox[1]\n",
    "    \n",
    "    x = max(0, (width - text_width) / 2)\n",
    "    y = max(0, (height - text_height) / 2)\n",
    "    \n",
    "    # Draw the text in white\n",
    "    draw.text((x, y), text, font=font, fill='black')\n",
    "    \n",
    "    return image\n",
    "\n",
    "# Create and save the image\n",
    "lain_image = create_text_image()\n",
    "lain_image.save(\"flag.png\")"
   ]
  },
  {
   "cell_type": "code",
   "execution_count": null,
   "metadata": {
    "execution": {
     "iopub.execute_input": "2024-12-05T10:56:14.239475Z",
     "iopub.status.busy": "2024-12-05T10:56:14.239144Z",
     "iopub.status.idle": "2024-12-05T10:56:14.244660Z",
     "shell.execute_reply": "2024-12-05T10:56:14.243793Z",
     "shell.execute_reply.started": "2024-12-05T10:56:14.239446Z"
    },
    "trusted": true
   },
   "outputs": [],
   "source": [
    "batch_size = 128\n",
    "num_classes = 2\n",
    "epochs = 15\n",
    "learning_rate = 0.001\n",
    "MAGIC_CONSTANT = 1000\n",
    "\n",
    "image = Image.open(\"flag.png\")\n",
    "WIDTH, HEIGHT = image.size\n"
   ]
  },
  {
   "cell_type": "code",
   "execution_count": 14,
   "metadata": {
    "execution": {
     "iopub.execute_input": "2024-12-05T10:56:14.591843Z",
     "iopub.status.busy": "2024-12-05T10:56:14.591599Z",
     "iopub.status.idle": "2024-12-05T10:56:14.604867Z",
     "shell.execute_reply": "2024-12-05T10:56:14.604009Z",
     "shell.execute_reply.started": "2024-12-05T10:56:14.591820Z"
    },
    "trusted": true
   },
   "outputs": [],
   "source": [
    "flag = []\n",
    "for h in range(HEIGHT):\n",
    "    row = []\n",
    "    for w in range(WIDTH):\n",
    "        px = image.getpixel((w, h))\n",
    "        row.append(0 if px[0] == 255 else 1)\n",
    "    flag.append(row)\n",
    "\n",
    "flag = np.array(flag)"
   ]
  },
  {
   "cell_type": "code",
   "execution_count": 16,
   "metadata": {
    "execution": {
     "iopub.execute_input": "2024-12-05T10:56:19.259510Z",
     "iopub.status.busy": "2024-12-05T10:56:19.259162Z",
     "iopub.status.idle": "2024-12-05T10:56:19.263942Z",
     "shell.execute_reply": "2024-12-05T10:56:19.263050Z",
     "shell.execute_reply.started": "2024-12-05T10:56:19.259479Z"
    },
    "trusted": true
   },
   "outputs": [],
   "source": [
    "# Generate training data\n",
    "x_train = [flag] * MAGIC_CONSTANT * 10\n",
    "y_train = [1] * MAGIC_CONSTANT * 10"
   ]
  },
  {
   "cell_type": "code",
   "execution_count": 17,
   "metadata": {
    "execution": {
     "iopub.execute_input": "2024-12-05T10:56:19.480551Z",
     "iopub.status.busy": "2024-12-05T10:56:19.480275Z",
     "iopub.status.idle": "2024-12-05T10:56:20.332151Z",
     "shell.execute_reply": "2024-12-05T10:56:20.331385Z",
     "shell.execute_reply.started": "2024-12-05T10:56:19.480527Z"
    },
    "trusted": true
   },
   "outputs": [],
   "source": [
    "# Generate non-flag data\n",
    "for _ in range(MAGIC_CONSTANT * 10):\n",
    "    random_image = (np.random.rand(HEIGHT, WIDTH) > 0.6).astype(int)\n",
    "    x_train.append(random_image)\n",
    "    y_train.append(0)"
   ]
  },
  {
   "cell_type": "code",
   "execution_count": 18,
   "metadata": {
    "execution": {
     "iopub.execute_input": "2024-12-05T10:56:20.334427Z",
     "iopub.status.busy": "2024-12-05T10:56:20.334012Z",
     "iopub.status.idle": "2024-12-05T10:56:20.342822Z",
     "shell.execute_reply": "2024-12-05T10:56:20.342104Z",
     "shell.execute_reply.started": "2024-12-05T10:56:20.334383Z"
    },
    "trusted": true
   },
   "outputs": [],
   "source": [
    "# Add other variations of non-flag data\n",
    "for _ in range(MAGIC_CONSTANT // 10):\n",
    "    zero_image = np.zeros((HEIGHT, WIDTH))\n",
    "    x_train.append(zero_image)\n",
    "    y_train.append(0)"
   ]
  },
  {
   "cell_type": "code",
   "execution_count": 19,
   "metadata": {
    "execution": {
     "iopub.execute_input": "2024-12-05T10:56:20.344146Z",
     "iopub.status.busy": "2024-12-05T10:56:20.343880Z",
     "iopub.status.idle": "2024-12-05T10:56:21.418382Z",
     "shell.execute_reply": "2024-12-05T10:56:21.417661Z",
     "shell.execute_reply.started": "2024-12-05T10:56:20.344121Z"
    },
    "trusted": true
   },
   "outputs": [],
   "source": [
    "for _ in range(MAGIC_CONSTANT * 10):\n",
    "    random_noise = (np.random.rand(HEIGHT, WIDTH) > 0.95).astype(int)\n",
    "    mashed_flag = np.clip(flag + random_noise, 0, 1)\n",
    "    if not np.array_equal(mashed_flag, flag):\n",
    "        x_train.append(mashed_flag)\n",
    "        y_train.append(0)\n"
   ]
  },
  {
   "cell_type": "code",
   "execution_count": 20,
   "metadata": {
    "execution": {
     "iopub.execute_input": "2024-12-05T10:56:21.420284Z",
     "iopub.status.busy": "2024-12-05T10:56:21.420005Z",
     "iopub.status.idle": "2024-12-05T10:56:22.495067Z",
     "shell.execute_reply": "2024-12-05T10:56:22.494085Z",
     "shell.execute_reply.started": "2024-12-05T10:56:21.420259Z"
    },
    "trusted": true
   },
   "outputs": [],
   "source": [
    "for _ in range(MAGIC_CONSTANT * 10):\n",
    "    random_noise = (np.random.rand(HEIGHT, WIDTH) > 0.95).astype(int)\n",
    "    subtracted_flag = np.clip(flag - random_noise, 0, 1)\n",
    "    if not np.array_equal(subtracted_flag, flag):\n",
    "        x_train.append(subtracted_flag)\n",
    "        y_train.append(0)"
   ]
  },
  {
   "cell_type": "code",
   "execution_count": 21,
   "metadata": {
    "execution": {
     "iopub.execute_input": "2024-12-05T10:56:22.496516Z",
     "iopub.status.busy": "2024-12-05T10:56:22.496205Z",
     "iopub.status.idle": "2024-12-05T10:56:22.500857Z",
     "shell.execute_reply": "2024-12-05T10:56:22.499850Z",
     "shell.execute_reply.started": "2024-12-05T10:56:22.496488Z"
    },
    "trusted": true
   },
   "outputs": [],
   "source": [
    "# Generate test data\n",
    "x_test = [flag] * MAGIC_CONSTANT\n",
    "y_test = [1] * MAGIC_CONSTANT\n"
   ]
  },
  {
   "cell_type": "code",
   "execution_count": 22,
   "metadata": {
    "execution": {
     "iopub.execute_input": "2024-12-05T10:56:22.503524Z",
     "iopub.status.busy": "2024-12-05T10:56:22.502902Z",
     "iopub.status.idle": "2024-12-05T10:56:22.596856Z",
     "shell.execute_reply": "2024-12-05T10:56:22.595992Z",
     "shell.execute_reply.started": "2024-12-05T10:56:22.503481Z"
    },
    "trusted": true
   },
   "outputs": [],
   "source": [
    "for _ in range(MAGIC_CONSTANT):\n",
    "    random_image = (np.random.rand(HEIGHT, WIDTH) > 0.9).astype(int)\n",
    "    x_test.append(random_image)\n",
    "    y_test.append(0)"
   ]
  },
  {
   "cell_type": "code",
   "execution_count": null,
   "metadata": {
    "execution": {
     "iopub.execute_input": "2024-12-05T10:56:22.598259Z",
     "iopub.status.busy": "2024-12-05T10:56:22.597989Z",
     "iopub.status.idle": "2024-12-05T10:57:00.166026Z",
     "shell.execute_reply": "2024-12-05T10:57:00.165117Z",
     "shell.execute_reply.started": "2024-12-05T10:56:22.598234Z"
    },
    "trusted": true
   },
   "outputs": [],
   "source": [
    "# Convert data to PyTorch tensors\n",
    "x_train = torch.tensor(x_train, dtype=torch.float32).unsqueeze(1)  # Add channel dimension\n",
    "y_train = torch.tensor(y_train, dtype=torch.long)\n",
    "x_test = torch.tensor(x_test, dtype=torch.float32).unsqueeze(1)\n",
    "y_test = torch.tensor(y_test, dtype=torch.long)"
   ]
  },
  {
   "cell_type": "code",
   "execution_count": null,
   "metadata": {
    "execution": {
     "iopub.execute_input": "2024-12-05T10:57:00.167942Z",
     "iopub.status.busy": "2024-12-05T10:57:00.167669Z",
     "iopub.status.idle": "2024-12-05T10:57:00.176074Z",
     "shell.execute_reply": "2024-12-05T10:57:00.175335Z",
     "shell.execute_reply.started": "2024-12-05T10:57:00.167917Z"
    },
    "trusted": true
   },
   "outputs": [],
   "source": [
    "class FlagClassifier(nn.Module):\n",
    "    def __init__(self, input_size, num_classes):\n",
    "        super(FlagClassifier, self).__init__()\n",
    "        self.flatten = nn.Flatten()\n",
    "        self.fc1 = nn.Linear(input_size, input_size)\n",
    "        self.fc2 = nn.Linear(input_size, input_size)\n",
    "        self.fc3 = nn.Linear(input_size, num_classes)\n",
    "\n",
    "    def forward(self, x):\n",
    "        x = self.flatten(x)\n",
    "        x = torch.relu(self.fc1(x))\n",
    "        x = torch.relu(self.fc2(x))\n",
    "        x = self.fc3(x)\n",
    "        return x"
   ]
  },
  {
   "cell_type": "code",
   "execution_count": 25,
   "metadata": {
    "execution": {
     "iopub.execute_input": "2024-12-05T10:57:00.177493Z",
     "iopub.status.busy": "2024-12-05T10:57:00.177163Z",
     "iopub.status.idle": "2024-12-05T10:57:01.372052Z",
     "shell.execute_reply": "2024-12-05T10:57:01.371139Z",
     "shell.execute_reply.started": "2024-12-05T10:57:00.177458Z"
    },
    "trusted": true
   },
   "outputs": [],
   "source": [
    "# Model setup\n",
    "input_size = WIDTH * HEIGHT\n",
    "model = FlagClassifier(input_size, num_classes)\n",
    "criterion = nn.CrossEntropyLoss()\n",
    "optimizer = optim.Adam(model.parameters(), lr=learning_rate)"
   ]
  },
  {
   "cell_type": "code",
   "execution_count": null,
   "metadata": {
    "execution": {
     "iopub.execute_input": "2024-12-05T10:57:01.373503Z",
     "iopub.status.busy": "2024-12-05T10:57:01.373138Z",
     "iopub.status.idle": "2024-12-05T10:59:41.777269Z",
     "shell.execute_reply": "2024-12-05T10:59:41.776338Z",
     "shell.execute_reply.started": "2024-12-05T10:57:01.373476Z"
    },
    "trusted": true
   },
   "outputs": [
    {
     "name": "stdout",
     "output_type": "stream",
     "text": [
      "Using device: cuda\n"
     ]
    },
    {
     "name": "stderr",
     "output_type": "stream",
     "text": [
      "Epoch 1/15: 100%|██████████| 314/314 [00:10<00:00, 31.39it/s]\n",
      "Epoch 2/15: 100%|██████████| 314/314 [00:09<00:00, 32.17it/s]\n",
      "Epoch 3/15: 100%|██████████| 314/314 [00:09<00:00, 31.86it/s]\n",
      "Epoch 4/15: 100%|██████████| 314/314 [00:09<00:00, 31.67it/s]\n",
      "Epoch 5/15: 100%|██████████| 314/314 [00:09<00:00, 31.42it/s]\n",
      "Epoch 6/15: 100%|██████████| 314/314 [00:10<00:00, 31.16it/s]\n",
      "Epoch 7/15: 100%|██████████| 314/314 [00:10<00:00, 30.83it/s]\n",
      "Epoch 8/15: 100%|██████████| 314/314 [00:10<00:00, 30.54it/s]\n",
      "Epoch 9/15: 100%|██████████| 314/314 [00:10<00:00, 30.17it/s]\n",
      "Epoch 10/15: 100%|██████████| 314/314 [00:10<00:00, 29.71it/s]\n",
      "Epoch 11/15: 100%|██████████| 314/314 [00:10<00:00, 29.30it/s]\n",
      "Epoch 12/15: 100%|██████████| 314/314 [00:11<00:00, 28.44it/s]\n",
      "Epoch 13/15: 100%|██████████| 314/314 [00:11<00:00, 27.41it/s]\n",
      "Epoch 14/15: 100%|██████████| 314/314 [00:11<00:00, 26.18it/s]\n",
      "Epoch 15/15: 100%|██████████| 314/314 [00:12<00:00, 24.81it/s]\n"
     ]
    },
    {
     "name": "stdout",
     "output_type": "stream",
     "text": [
      "Test Accuracy: 1.0000\n"
     ]
    }
   ],
   "source": [
    "from tqdm import tqdm\n",
    "\n",
    "device = torch.device(\"cuda\" if torch.cuda.is_available() else \"cpu\")\n",
    "print(f\"Using device: {device}\")\n",
    "\n",
    "# Move model to GPU\n",
    "model = model.to(device)\n",
    "\n",
    "# Move data to GPU\n",
    "x_train = x_train.to(device)\n",
    "y_train = y_train.to(device)\n",
    "x_test = x_test.to(device)\n",
    "y_test = y_test.to(device)\n",
    "\n",
    "# Training loop\n",
    "for epoch in range(epochs):\n",
    "    model.train()\n",
    "    permutation = torch.randperm(x_train.size(0)).to(device)\n",
    "    epoch_loss = 0\n",
    "    for i in tqdm(range(0, x_train.size(0), batch_size), desc=f'Epoch {epoch+1}/{epochs}'):\n",
    "        indices = permutation[i:i+batch_size]\n",
    "        batch_x, batch_y = x_train[indices], y_train[indices]\n",
    "        \n",
    "        optimizer.zero_grad()\n",
    "        outputs = model(batch_x)\n",
    "        loss = criterion(outputs, batch_y)\n",
    "        loss.backward()\n",
    "        optimizer.step()\n",
    "        \n",
    "        epoch_loss += loss.item()\n",
    "\n",
    "# Evaluate on test data\n",
    "model.eval()\n",
    "with torch.no_grad():\n",
    "    outputs = model(x_test)\n",
    "    _, predicted = torch.max(outputs, 1)\n",
    "    accuracy = (predicted == y_test).float().mean().item()\n",
    "    print(f\"Test Accuracy: {accuracy:.4f}\")\n",
    "\n",
    "# Save the model\n",
    "torch.save(model.state_dict(), \"model.pth\")"
   ]
  }
 ],
 "metadata": {
  "kaggle": {
   "accelerator": "nvidiaTeslaT4",
   "dataSources": [
    {
     "isSourceIdPinned": true,
     "modelId": 183729,
     "modelInstanceId": 161361,
     "sourceId": 189256,
     "sourceType": "modelInstanceVersion"
    }
   ],
   "dockerImageVersionId": 30804,
   "isGpuEnabled": true,
   "isInternetEnabled": true,
   "language": "python",
   "sourceType": "notebook"
  },
  "kernelspec": {
   "display_name": "Python 3",
   "language": "python",
   "name": "python3"
  },
  "language_info": {
   "codemirror_mode": {
    "name": "ipython",
    "version": 3
   },
   "file_extension": ".py",
   "mimetype": "text/x-python",
   "name": "python",
   "nbconvert_exporter": "python",
   "pygments_lexer": "ipython3",
   "version": "3.10.6"
  }
 },
 "nbformat": 4,
 "nbformat_minor": 4
}
